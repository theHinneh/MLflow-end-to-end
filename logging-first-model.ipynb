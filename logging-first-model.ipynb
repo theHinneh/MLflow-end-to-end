{
 "cells": [
  {
   "cell_type": "code",
   "id": "20cc39b3",
   "metadata": {
    "ExecuteTime": {
     "end_time": "2024-06-17T02:17:55.313981Z",
     "start_time": "2024-06-17T02:17:50.335638Z"
    }
   },
   "source": [
    "from pprint import pprint\n",
    "from sklearn.ensemble import RandomForestRegressor\n",
    "from mlflow import MlflowClient"
   ],
   "outputs": [],
   "execution_count": 1
  },
  {
   "cell_type": "markdown",
   "id": "bd00304d",
   "metadata": {},
   "source": "### Initializing the MLflow Client"
  },
  {
   "cell_type": "code",
   "id": "ac741989",
   "metadata": {
    "ExecuteTime": {
     "end_time": "2024-06-17T02:18:03.420149Z",
     "start_time": "2024-06-17T02:18:03.417131Z"
    }
   },
   "source": "client = MlflowClient(tracking_uri=\"http://127.0.0.1:8080\")",
   "outputs": [],
   "execution_count": 2
  },
  {
   "cell_type": "markdown",
   "id": "6129354a",
   "metadata": {},
   "source": "#### Search Experiments with the MLflow Client API"
  },
  {
   "cell_type": "code",
   "id": "f208d9b8",
   "metadata": {
    "ExecuteTime": {
     "end_time": "2024-06-17T02:19:32.240036Z",
     "start_time": "2024-06-17T02:19:32.106594Z"
    }
   },
   "source": [
    "# Search experiments without providing query terms behaves effectively as a 'list' action\n",
    "\n",
    "all_experiments = client.search_experiments()\n",
    "\n",
    "print(all_experiments)"
   ],
   "outputs": [
    {
     "name": "stdout",
     "output_type": "stream",
     "text": [
      "[<Experiment: artifact_location='mlflow-artifacts:/846757874247768437', creation_time=1715906486092, experiment_id='846757874247768437', last_update_time=1715906486092, lifecycle_stage='active', name='Apple_Models', tags={'mlflow.note.content': 'This is the grocery forecasting project. This '\n",
      "                        'experiment contains the produce models for apples.',\n",
      " 'project_name': 'grocery-forecasting',\n",
      " 'project_quarter': 'Q3-2023',\n",
      " 'store_dept': 'produce',\n",
      " 'team': 'stores-ml'}>, <Experiment: artifact_location='mlflow-artifacts:/879149217155688749', creation_time=1715448546346, experiment_id='879149217155688749', last_update_time=1715448546346, lifecycle_stage='active', name='/npha', tags={}>, <Experiment: artifact_location='mlflow-artifacts:/0', creation_time=1715446191150, experiment_id='0', last_update_time=1715446191150, lifecycle_stage='active', name='Default', tags={}>]\n"
     ]
    }
   ],
   "execution_count": 3
  },
  {
   "cell_type": "code",
   "id": "9b1e1914",
   "metadata": {
    "ExecuteTime": {
     "end_time": "2024-06-17T02:19:57.347632Z",
     "start_time": "2024-06-17T02:19:57.344264Z"
    }
   },
   "source": [
    "# Extract the experiment name and lifecycle_stage\n",
    "\n",
    "default_experiment = [\n",
    "    {\"name\": experiment.name, \"lifecycle_stage\": experiment.lifecycle_stage}\n",
    "    for experiment in all_experiments\n",
    "    if experiment.name == \"Default\"\n",
    "][0]\n",
    "\n",
    "pprint(default_experiment)"
   ],
   "outputs": [
    {
     "name": "stdout",
     "output_type": "stream",
     "text": [
      "{'lifecycle_stage': 'active', 'name': 'Default'}\n"
     ]
    }
   ],
   "execution_count": 4
  },
  {
   "cell_type": "markdown",
   "id": "81c37836",
   "metadata": {},
   "source": [
    "### Creating a new Experiment\n",
    "\n",
    "In this section, we'll:\n",
    "\n",
    "* create a new MLflow Experiment\n",
    "* apply metadata in the form of Experiment Tags"
   ]
  },
  {
   "cell_type": "code",
   "id": "b07c851f",
   "metadata": {
    "ExecuteTime": {
     "end_time": "2024-06-17T02:21:09.936506Z",
     "start_time": "2024-06-17T02:21:09.893631Z"
    }
   },
   "source": [
    "experiment_description = (\n",
    "    \"This is the grocery forecasting project. \"\n",
    "    \"This experiment contains the produce models for apples.\"\n",
    ")\n",
    "\n",
    "experiment_tags = {\n",
    "    \"project_name\": \"grocery-forecasting\",\n",
    "    \"store_dept\": \"produce\",\n",
    "    \"team\": \"stores-ml\",\n",
    "    \"project_quarter\": \"Q3-2023\",\n",
    "    \"mlflow.note.content\": experiment_description,\n",
    "}\n",
    "\n",
    "produce_apples_experiment = client.create_experiment(name=\"Apple_Models\", tags=experiment_tags)"
   ],
   "outputs": [],
   "execution_count": 6
  },
  {
   "cell_type": "code",
   "id": "3858e72a",
   "metadata": {
    "ExecuteTime": {
     "end_time": "2024-06-17T02:21:24.742445Z",
     "start_time": "2024-06-17T02:21:24.721403Z"
    }
   },
   "source": [
    "# Use search_experiments() to search on the project_name tag key\n",
    "\n",
    "apples_experiment = client.search_experiments(\n",
    "    filter_string=\"tags.`project_name` = 'grocery-forecasting'\"\n",
    ")\n",
    "\n",
    "pprint(apples_experiment[0])"
   ],
   "outputs": [
    {
     "name": "stdout",
     "output_type": "stream",
     "text": [
      "<Experiment: artifact_location='mlflow-artifacts:/611348812442032429', creation_time=1718590869910, experiment_id='611348812442032429', last_update_time=1718590869910, lifecycle_stage='active', name='Apple_Models', tags={'mlflow.note.content': 'This is the grocery forecasting project. This '\n",
      "                        'experiment contains the produce models for apples.',\n",
      " 'project_name': 'grocery-forecasting',\n",
      " 'project_quarter': 'Q3-2023',\n",
      " 'store_dept': 'produce',\n",
      " 'team': 'stores-ml'}>\n"
     ]
    }
   ],
   "execution_count": 7
  },
  {
   "cell_type": "code",
   "id": "181a5545",
   "metadata": {
    "ExecuteTime": {
     "end_time": "2024-06-17T02:21:49.400386Z",
     "start_time": "2024-06-17T02:21:49.397851Z"
    }
   },
   "source": [
    "# Access individual tag data\n",
    "\n",
    "print(apples_experiment[0].tags[\"team\"])"
   ],
   "outputs": [
    {
     "name": "stdout",
     "output_type": "stream",
     "text": [
      "stores-ml\n"
     ]
    }
   ],
   "execution_count": 8
  },
  {
   "cell_type": "markdown",
   "id": "91c66551",
   "metadata": {},
   "source": [
    "### Running our first model training\n",
    "\n",
    "In this section, we'll:\n",
    "\n",
    "* create a synthetic data set that is relevant to a simple demand forecasting task\n",
    "* start an MLflow run\n",
    "* log metrics, parameters, and tags to the run\n",
    "* save the model to the run\n",
    "* register the model during model logging"
   ]
  },
  {
   "cell_type": "markdown",
   "id": "5faffa16",
   "metadata": {},
   "source": "#### Synthetic data generator for demand of apples"
  },
  {
   "cell_type": "code",
   "id": "2268a1cb",
   "metadata": {
    "ExecuteTime": {
     "end_time": "2024-06-17T02:36:43.390183Z",
     "start_time": "2024-06-17T02:36:43.376583Z"
    }
   },
   "source": [
    "from datetime import datetime, timedelta\n",
    "\n",
    "import numpy as np\n",
    "import pandas as pd\n",
    "\n",
    "\n",
    "def generate_apple_sales_data_with_promo_adjustment(base_demand: int = 1000, n_rows: int = 5000):\n",
    "    \"\"\"\n",
    "    Generates a synthetic dataset for predicting apple sales demand with seasonality and inflation.\n",
    "\n",
    "    This function creates a pandas DataFrame with features relevant to apple sales.\n",
    "    The features include date, average_temperature, rainfall, weekend flag, holiday flag,\n",
    "    promotional flag, price_per_kg, and the previous day's demand. The target variable,\n",
    "    'demand', is generated based on a combination of these features with some added noise.\n",
    "\n",
    "    Args:\n",
    "        base_demand (int, optional): Base demand for apples. Defaults to 1000.\n",
    "        n_rows (int, optional): Number of rows (days) of data to generate. Defaults to 5000.\n",
    "\n",
    "    Returns:\n",
    "        pd.DataFrame: DataFrame with features and target variable for apple sales prediction.\n",
    "\n",
    "    Example:\n",
    "        >>> df = generate_apple_sales_data_with_seasonality(base_demand=1200, n_rows=6000)\n",
    "        >>> df.head()\n",
    "    \"\"\"\n",
    "\n",
    "    # Set seed for reproducibility\n",
    "    np.random.seed(9999)\n",
    "\n",
    "    # Create date range\n",
    "    dates = [datetime.now() - timedelta(days=i) for i in range(n_rows)]\n",
    "    dates.reverse()\n",
    "\n",
    "    # Generate features\n",
    "    df = pd.DataFrame(\n",
    "        {\n",
    "            \"date\": dates,\n",
    "            \"average_temperature\": np.random.uniform(10, 35, n_rows),\n",
    "            \"rainfall\": np.random.exponential(5, n_rows),\n",
    "            \"weekend\": [(date.weekday() >= 5) * 1 for date in dates],\n",
    "            \"holiday\": np.random.choice([0, 1], n_rows, p=[0.97, 0.03]),\n",
    "            \"price_per_kg\": np.random.uniform(0.5, 3, n_rows),\n",
    "            \"month\": [date.month for date in dates],\n",
    "        }\n",
    "    )\n",
    "\n",
    "    # Introduce inflation over time (years)\n",
    "    df[\"inflation_multiplier\"] = 1 + (df[\"date\"].dt.year - df[\"date\"].dt.year.min()) * 0.03\n",
    "\n",
    "    # Incorporate seasonality due to apple harvests\n",
    "    df[\"harvest_effect\"] = np.sin(2 * np.pi * (df[\"month\"] - 3) / 12) + np.sin(\n",
    "        2 * np.pi * (df[\"month\"] - 9) / 12\n",
    "    )\n",
    "\n",
    "    # Modify the price_per_kg based on harvest effect\n",
    "    df[\"price_per_kg\"] = df[\"price_per_kg\"] - df[\"harvest_effect\"] * 0.5\n",
    "\n",
    "    # Adjust promo periods to coincide with periods lagging peak harvest by 1 month\n",
    "    peak_months = [4, 10]  # months following the peak availability\n",
    "    df[\"promo\"] = np.where(\n",
    "        df[\"month\"].isin(peak_months),\n",
    "        1,\n",
    "        np.random.choice([0, 1], n_rows, p=[0.85, 0.15]),\n",
    "    )\n",
    "\n",
    "    # Generate target variable based on features\n",
    "    base_price_effect = -df[\"price_per_kg\"] * 50\n",
    "    seasonality_effect = df[\"harvest_effect\"] * 50\n",
    "    promo_effect = df[\"promo\"] * 200\n",
    "\n",
    "    df[\"demand\"] = (\n",
    "        base_demand\n",
    "        + base_price_effect\n",
    "        + seasonality_effect\n",
    "        + promo_effect\n",
    "        + df[\"weekend\"] * 300\n",
    "        + np.random.normal(0, 50, n_rows)\n",
    "    ) * df[\"inflation_multiplier\"]  # adding random noise\n",
    "\n",
    "    # Add previous day's demand\n",
    "    df[\"previous_days_demand\"] = df[\"demand\"].shift(1)\n",
    "    df[\"previous_days_demand\"].fillna(method=\"bfill\", inplace=True)  # fill the first row\n",
    "\n",
    "    # Drop temporary columns\n",
    "    df.drop(columns=[\"inflation_multiplier\", \"harvest_effect\", \"month\"], inplace=True)\n",
    "\n",
    "    return df"
   ],
   "outputs": [],
   "execution_count": 9
  },
  {
   "cell_type": "code",
   "id": "2924d135",
   "metadata": {
    "ExecuteTime": {
     "end_time": "2024-06-17T02:39:27.636194Z",
     "start_time": "2024-06-17T02:39:27.531956Z"
    }
   },
   "source": [
    "# Generate the dataset!\n",
    "\n",
    "data = generate_apple_sales_data_with_promo_adjustment(base_demand=12000, n_rows=19000)\n",
    "\n",
    "data[-20:]"
   ],
   "outputs": [
    {
     "data": {
      "text/plain": [
       "                            date  average_temperature   rainfall  weekend  \\\n",
       "18980 2024-05-28 22:39:27.537951            12.571860   0.670242        0   \n",
       "18981 2024-05-29 22:39:27.537950            34.673596   2.989822        0   \n",
       "18982 2024-05-30 22:39:27.537949            30.019414   0.899283        0   \n",
       "18983 2024-05-31 22:39:27.537948            33.942513   3.298097        0   \n",
       "18984 2024-06-01 22:39:27.537947            19.059576   3.067136        1   \n",
       "18985 2024-06-02 22:39:27.537947            32.293184   3.338936        1   \n",
       "18986 2024-06-03 22:39:27.537946            28.176832   0.867471        0   \n",
       "18987 2024-06-04 22:39:27.537945            21.538317   2.662587        0   \n",
       "18988 2024-06-05 22:39:27.537944            28.108511   0.478836        0   \n",
       "18989 2024-06-06 22:39:27.537944            30.039127   1.855566        0   \n",
       "18990 2024-06-07 22:39:27.537943            17.405099   3.041272        0   \n",
       "18991 2024-06-08 22:39:27.537942            11.339245  13.075153        1   \n",
       "18992 2024-06-09 22:39:27.537941            32.434588   0.625127        1   \n",
       "18993 2024-06-10 22:39:27.537941            34.125988   6.938183        0   \n",
       "18994 2024-06-11 22:39:27.537940            19.634717   6.876823        0   \n",
       "18995 2024-06-12 22:39:27.537939            10.064770   9.885716        0   \n",
       "18996 2024-06-13 22:39:27.537938            33.545557   9.014783        0   \n",
       "18997 2024-06-14 22:39:27.537937            13.525946   2.950610        0   \n",
       "18998 2024-06-15 22:39:27.537936            27.716849   0.328283        1   \n",
       "18999 2024-06-16 22:39:27.537912            10.365410   5.389178        1   \n",
       "\n",
       "       holiday  price_per_kg  promo        demand  previous_days_demand  \n",
       "18980        0      0.611753      0  30517.300055          30452.345939  \n",
       "18981        0      0.648776      0  30728.339588          30517.300055  \n",
       "18982        0      0.797468      0  30565.149414          30728.339588  \n",
       "18983        0      2.237331      0  30232.891860          30565.149414  \n",
       "18984        0      1.412432      0  31181.986303          30232.891860  \n",
       "18985        0      2.173020      0  30966.532377          31181.986303  \n",
       "18986        0      2.350349      1  30920.426525          30966.532377  \n",
       "18987        0      2.804598      1  30906.826840          30920.426525  \n",
       "18988        0      1.253355      0  30832.797377          30906.826840  \n",
       "18989        1      2.029539      0  30358.621764          30832.797377  \n",
       "18990        0      1.347170      0  30323.364390          30358.621764  \n",
       "18991        0      1.202661      0  31405.824631          30323.364390  \n",
       "18992        0      1.598454      0  31254.924376          31405.824631  \n",
       "18993        0      2.586268      0  30426.143403          31254.924376  \n",
       "18994        1      0.508977      0  30588.609791          30426.143403  \n",
       "18995        1      1.203408      0  30529.344170          30588.609791  \n",
       "18996        0      2.505679      0  30632.345734          30529.344170  \n",
       "18997        0      1.356418      1  30905.038941          30632.345734  \n",
       "18998        0      2.795595      0  31228.345265          30905.038941  \n",
       "18999        0      2.178859      0  31176.988611          31228.345265  "
      ],
      "text/html": [
       "<div>\n",
       "<style scoped>\n",
       "    .dataframe tbody tr th:only-of-type {\n",
       "        vertical-align: middle;\n",
       "    }\n",
       "\n",
       "    .dataframe tbody tr th {\n",
       "        vertical-align: top;\n",
       "    }\n",
       "\n",
       "    .dataframe thead th {\n",
       "        text-align: right;\n",
       "    }\n",
       "</style>\n",
       "<table border=\"1\" class=\"dataframe\">\n",
       "  <thead>\n",
       "    <tr style=\"text-align: right;\">\n",
       "      <th></th>\n",
       "      <th>date</th>\n",
       "      <th>average_temperature</th>\n",
       "      <th>rainfall</th>\n",
       "      <th>weekend</th>\n",
       "      <th>holiday</th>\n",
       "      <th>price_per_kg</th>\n",
       "      <th>promo</th>\n",
       "      <th>demand</th>\n",
       "      <th>previous_days_demand</th>\n",
       "    </tr>\n",
       "  </thead>\n",
       "  <tbody>\n",
       "    <tr>\n",
       "      <th>18980</th>\n",
       "      <td>2024-05-28 22:39:27.537951</td>\n",
       "      <td>12.571860</td>\n",
       "      <td>0.670242</td>\n",
       "      <td>0</td>\n",
       "      <td>0</td>\n",
       "      <td>0.611753</td>\n",
       "      <td>0</td>\n",
       "      <td>30517.300055</td>\n",
       "      <td>30452.345939</td>\n",
       "    </tr>\n",
       "    <tr>\n",
       "      <th>18981</th>\n",
       "      <td>2024-05-29 22:39:27.537950</td>\n",
       "      <td>34.673596</td>\n",
       "      <td>2.989822</td>\n",
       "      <td>0</td>\n",
       "      <td>0</td>\n",
       "      <td>0.648776</td>\n",
       "      <td>0</td>\n",
       "      <td>30728.339588</td>\n",
       "      <td>30517.300055</td>\n",
       "    </tr>\n",
       "    <tr>\n",
       "      <th>18982</th>\n",
       "      <td>2024-05-30 22:39:27.537949</td>\n",
       "      <td>30.019414</td>\n",
       "      <td>0.899283</td>\n",
       "      <td>0</td>\n",
       "      <td>0</td>\n",
       "      <td>0.797468</td>\n",
       "      <td>0</td>\n",
       "      <td>30565.149414</td>\n",
       "      <td>30728.339588</td>\n",
       "    </tr>\n",
       "    <tr>\n",
       "      <th>18983</th>\n",
       "      <td>2024-05-31 22:39:27.537948</td>\n",
       "      <td>33.942513</td>\n",
       "      <td>3.298097</td>\n",
       "      <td>0</td>\n",
       "      <td>0</td>\n",
       "      <td>2.237331</td>\n",
       "      <td>0</td>\n",
       "      <td>30232.891860</td>\n",
       "      <td>30565.149414</td>\n",
       "    </tr>\n",
       "    <tr>\n",
       "      <th>18984</th>\n",
       "      <td>2024-06-01 22:39:27.537947</td>\n",
       "      <td>19.059576</td>\n",
       "      <td>3.067136</td>\n",
       "      <td>1</td>\n",
       "      <td>0</td>\n",
       "      <td>1.412432</td>\n",
       "      <td>0</td>\n",
       "      <td>31181.986303</td>\n",
       "      <td>30232.891860</td>\n",
       "    </tr>\n",
       "    <tr>\n",
       "      <th>18985</th>\n",
       "      <td>2024-06-02 22:39:27.537947</td>\n",
       "      <td>32.293184</td>\n",
       "      <td>3.338936</td>\n",
       "      <td>1</td>\n",
       "      <td>0</td>\n",
       "      <td>2.173020</td>\n",
       "      <td>0</td>\n",
       "      <td>30966.532377</td>\n",
       "      <td>31181.986303</td>\n",
       "    </tr>\n",
       "    <tr>\n",
       "      <th>18986</th>\n",
       "      <td>2024-06-03 22:39:27.537946</td>\n",
       "      <td>28.176832</td>\n",
       "      <td>0.867471</td>\n",
       "      <td>0</td>\n",
       "      <td>0</td>\n",
       "      <td>2.350349</td>\n",
       "      <td>1</td>\n",
       "      <td>30920.426525</td>\n",
       "      <td>30966.532377</td>\n",
       "    </tr>\n",
       "    <tr>\n",
       "      <th>18987</th>\n",
       "      <td>2024-06-04 22:39:27.537945</td>\n",
       "      <td>21.538317</td>\n",
       "      <td>2.662587</td>\n",
       "      <td>0</td>\n",
       "      <td>0</td>\n",
       "      <td>2.804598</td>\n",
       "      <td>1</td>\n",
       "      <td>30906.826840</td>\n",
       "      <td>30920.426525</td>\n",
       "    </tr>\n",
       "    <tr>\n",
       "      <th>18988</th>\n",
       "      <td>2024-06-05 22:39:27.537944</td>\n",
       "      <td>28.108511</td>\n",
       "      <td>0.478836</td>\n",
       "      <td>0</td>\n",
       "      <td>0</td>\n",
       "      <td>1.253355</td>\n",
       "      <td>0</td>\n",
       "      <td>30832.797377</td>\n",
       "      <td>30906.826840</td>\n",
       "    </tr>\n",
       "    <tr>\n",
       "      <th>18989</th>\n",
       "      <td>2024-06-06 22:39:27.537944</td>\n",
       "      <td>30.039127</td>\n",
       "      <td>1.855566</td>\n",
       "      <td>0</td>\n",
       "      <td>1</td>\n",
       "      <td>2.029539</td>\n",
       "      <td>0</td>\n",
       "      <td>30358.621764</td>\n",
       "      <td>30832.797377</td>\n",
       "    </tr>\n",
       "    <tr>\n",
       "      <th>18990</th>\n",
       "      <td>2024-06-07 22:39:27.537943</td>\n",
       "      <td>17.405099</td>\n",
       "      <td>3.041272</td>\n",
       "      <td>0</td>\n",
       "      <td>0</td>\n",
       "      <td>1.347170</td>\n",
       "      <td>0</td>\n",
       "      <td>30323.364390</td>\n",
       "      <td>30358.621764</td>\n",
       "    </tr>\n",
       "    <tr>\n",
       "      <th>18991</th>\n",
       "      <td>2024-06-08 22:39:27.537942</td>\n",
       "      <td>11.339245</td>\n",
       "      <td>13.075153</td>\n",
       "      <td>1</td>\n",
       "      <td>0</td>\n",
       "      <td>1.202661</td>\n",
       "      <td>0</td>\n",
       "      <td>31405.824631</td>\n",
       "      <td>30323.364390</td>\n",
       "    </tr>\n",
       "    <tr>\n",
       "      <th>18992</th>\n",
       "      <td>2024-06-09 22:39:27.537941</td>\n",
       "      <td>32.434588</td>\n",
       "      <td>0.625127</td>\n",
       "      <td>1</td>\n",
       "      <td>0</td>\n",
       "      <td>1.598454</td>\n",
       "      <td>0</td>\n",
       "      <td>31254.924376</td>\n",
       "      <td>31405.824631</td>\n",
       "    </tr>\n",
       "    <tr>\n",
       "      <th>18993</th>\n",
       "      <td>2024-06-10 22:39:27.537941</td>\n",
       "      <td>34.125988</td>\n",
       "      <td>6.938183</td>\n",
       "      <td>0</td>\n",
       "      <td>0</td>\n",
       "      <td>2.586268</td>\n",
       "      <td>0</td>\n",
       "      <td>30426.143403</td>\n",
       "      <td>31254.924376</td>\n",
       "    </tr>\n",
       "    <tr>\n",
       "      <th>18994</th>\n",
       "      <td>2024-06-11 22:39:27.537940</td>\n",
       "      <td>19.634717</td>\n",
       "      <td>6.876823</td>\n",
       "      <td>0</td>\n",
       "      <td>1</td>\n",
       "      <td>0.508977</td>\n",
       "      <td>0</td>\n",
       "      <td>30588.609791</td>\n",
       "      <td>30426.143403</td>\n",
       "    </tr>\n",
       "    <tr>\n",
       "      <th>18995</th>\n",
       "      <td>2024-06-12 22:39:27.537939</td>\n",
       "      <td>10.064770</td>\n",
       "      <td>9.885716</td>\n",
       "      <td>0</td>\n",
       "      <td>1</td>\n",
       "      <td>1.203408</td>\n",
       "      <td>0</td>\n",
       "      <td>30529.344170</td>\n",
       "      <td>30588.609791</td>\n",
       "    </tr>\n",
       "    <tr>\n",
       "      <th>18996</th>\n",
       "      <td>2024-06-13 22:39:27.537938</td>\n",
       "      <td>33.545557</td>\n",
       "      <td>9.014783</td>\n",
       "      <td>0</td>\n",
       "      <td>0</td>\n",
       "      <td>2.505679</td>\n",
       "      <td>0</td>\n",
       "      <td>30632.345734</td>\n",
       "      <td>30529.344170</td>\n",
       "    </tr>\n",
       "    <tr>\n",
       "      <th>18997</th>\n",
       "      <td>2024-06-14 22:39:27.537937</td>\n",
       "      <td>13.525946</td>\n",
       "      <td>2.950610</td>\n",
       "      <td>0</td>\n",
       "      <td>0</td>\n",
       "      <td>1.356418</td>\n",
       "      <td>1</td>\n",
       "      <td>30905.038941</td>\n",
       "      <td>30632.345734</td>\n",
       "    </tr>\n",
       "    <tr>\n",
       "      <th>18998</th>\n",
       "      <td>2024-06-15 22:39:27.537936</td>\n",
       "      <td>27.716849</td>\n",
       "      <td>0.328283</td>\n",
       "      <td>1</td>\n",
       "      <td>0</td>\n",
       "      <td>2.795595</td>\n",
       "      <td>0</td>\n",
       "      <td>31228.345265</td>\n",
       "      <td>30905.038941</td>\n",
       "    </tr>\n",
       "    <tr>\n",
       "      <th>18999</th>\n",
       "      <td>2024-06-16 22:39:27.537912</td>\n",
       "      <td>10.365410</td>\n",
       "      <td>5.389178</td>\n",
       "      <td>1</td>\n",
       "      <td>0</td>\n",
       "      <td>2.178859</td>\n",
       "      <td>0</td>\n",
       "      <td>31176.988611</td>\n",
       "      <td>31228.345265</td>\n",
       "    </tr>\n",
       "  </tbody>\n",
       "</table>\n",
       "</div>"
      ]
     },
     "execution_count": 10,
     "metadata": {},
     "output_type": "execute_result"
    }
   ],
   "execution_count": 10
  },
  {
   "cell_type": "markdown",
   "id": "e076a312",
   "metadata": {},
   "source": [
    "### Train and log the model\n",
    "\n",
    "We're now ready to import our model class and train a ``RandomForestRegressor``"
   ]
  },
  {
   "cell_type": "code",
   "id": "6e354900",
   "metadata": {
    "ExecuteTime": {
     "end_time": "2024-06-17T02:42:23.267402Z",
     "start_time": "2024-06-17T02:42:23.239778Z"
    }
   },
   "source": [
    "from sklearn.ensemble import RandomForestRegressor\n",
    "from sklearn.metrics import mean_absolute_error, mean_squared_error, r2_score\n",
    "from sklearn.model_selection import train_test_split\n",
    "\n",
    "import mlflow\n",
    "\n",
    "# Use the fluent API to set the tracking uri and the active experiment\n",
    "mlflow.set_tracking_uri(\"http://127.0.0.1:8080\")\n",
    "\n",
    "# Sets the current active experiment to the \"Apple_Models\" experiment and returns the Experiment metadata\n",
    "apple_experiment = mlflow.set_experiment(\"Apple_Models\")\n",
    "\n",
    "# Define a run name for this iteration of training.\n",
    "# If this is not set, a unique name will be auto-generated for your run.\n",
    "run_name = \"apples_rf_test\"\n",
    "\n",
    "# Define an artifact path that the model will be saved to.\n",
    "artifact_path = \"rf_apples\""
   ],
   "outputs": [],
   "execution_count": 11
  },
  {
   "cell_type": "code",
   "id": "ae02e54b",
   "metadata": {
    "ExecuteTime": {
     "end_time": "2024-06-17T02:45:04.254847Z",
     "start_time": "2024-06-17T02:44:58.068405Z"
    }
   },
   "source": [
    "# Split the data into features and target and drop irrelevant date field and target field\n",
    "X = data.drop(columns=[\"date\", \"demand\"])\n",
    "y = data[\"demand\"]\n",
    "\n",
    "# Split the data into training and validation sets\n",
    "X_train, X_val, y_train, y_val = train_test_split(X, y, test_size=0.2, random_state=42)\n",
    "\n",
    "params = {\n",
    "    \"n_estimators\": 100,\n",
    "    \"max_depth\": 6,\n",
    "    \"min_samples_split\": 10,\n",
    "    \"min_samples_leaf\": 4,\n",
    "    \"bootstrap\": True,\n",
    "    \"oob_score\": False,\n",
    "    \"random_state\": 888,\n",
    "}\n",
    "\n",
    "# Train the RandomForestRegressor\n",
    "rf = RandomForestRegressor(**params)\n",
    "\n",
    "# Fit the model on the training data\n",
    "rf.fit(X_train, y_train)\n",
    "\n",
    "# Predict on the validation set\n",
    "y_pred = rf.predict(X_val)\n",
    "\n",
    "# Calculate error metrics\n",
    "mae = mean_absolute_error(y_val, y_pred)\n",
    "mse = mean_squared_error(y_val, y_pred)\n",
    "rmse = np.sqrt(mse)\n",
    "r2 = r2_score(y_val, y_pred)\n",
    "\n",
    "# Assemble the metrics we're going to write into a collection\n",
    "metrics = {\"mae\": mae, \"mse\": mse, \"rmse\": rmse, \"r2\": r2}\n",
    "\n",
    "# Initiate the MLflow run context\n",
    "with mlflow.start_run(run_name=run_name) as run:\n",
    "    # Log the parameters used for the model fit\n",
    "    mlflow.log_params(params)\n",
    "\n",
    "    # Log the error metrics that were calculated during validation\n",
    "    mlflow.log_metrics(metrics)\n",
    "\n",
    "    # Log an instance of the trained model for later use\n",
    "    mlflow.sklearn.log_model(sk_model=rf, input_example=X_val, artifact_path=artifact_path)"
   ],
   "outputs": [
    {
     "name": "stderr",
     "output_type": "stream",
     "text": [
      "/Users/emmanuelhinneh/miniconda3/envs/npha/lib/python3.8/site-packages/mlflow/types/utils.py:394: UserWarning: Hint: Inferred schema contains integer column(s). Integer columns in Python cannot represent missing values. If your input data contains missing values at inference time, it will be encoded as floats and will cause a schema enforcement error. The best way to avoid this problem is to infer the model schema based on a realistic data sample (training dataset) that includes missing values. Alternatively, you can declare integer columns as doubles (float64) whenever these columns may have missing values. See `Handling Integers With Missing Values <https://www.mlflow.org/docs/latest/models.html#handling-integers-with-missing-values>`_ for more details.\n",
      "  warnings.warn(\n",
      "/Users/emmanuelhinneh/miniconda3/envs/npha/lib/python3.8/site-packages/_distutils_hack/__init__.py:33: UserWarning: Setuptools is replacing distutils.\n",
      "  warnings.warn(\"Setuptools is replacing distutils.\")\n"
     ]
    }
   ],
   "execution_count": 12
  },
  {
   "metadata": {
    "ExecuteTime": {
     "end_time": "2024-06-17T03:00:14.627962Z",
     "start_time": "2024-06-17T03:00:14.623484Z"
    }
   },
   "cell_type": "code",
   "source": [
    "# Retrieve the run id\n",
    "run_id = run.info.run_id\n",
    "\n",
    "print(run_id)"
   ],
   "id": "b194168731ede0fb",
   "outputs": [
    {
     "name": "stdout",
     "output_type": "stream",
     "text": [
      "98c4e2e8c2754c7d911bbfe516bafc56\n"
     ]
    }
   ],
   "execution_count": 13
  },
  {
   "cell_type": "markdown",
   "id": "84c06abe",
   "metadata": {},
   "source": "### Deploying the model"
  },
  {
   "metadata": {},
   "cell_type": "code",
   "outputs": [],
   "execution_count": null,
   "source": "",
   "id": "1b0e570ea085c9d2"
  }
 ],
 "metadata": {
  "kernelspec": {
   "display_name": "Python 3 (ipykernel)",
   "language": "python",
   "name": "python3"
  },
  "language_info": {
   "codemirror_mode": {
    "name": "ipython",
    "version": 3
   },
   "file_extension": ".py",
   "mimetype": "text/x-python",
   "name": "python",
   "nbconvert_exporter": "python",
   "pygments_lexer": "ipython3",
   "version": "3.8.13"
  }
 },
 "nbformat": 4,
 "nbformat_minor": 5
}
